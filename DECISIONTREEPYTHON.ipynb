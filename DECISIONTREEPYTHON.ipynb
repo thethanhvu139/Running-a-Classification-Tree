{
 "cells": [
  {
   "cell_type": "code",
   "execution_count": 1,
   "metadata": {},
   "outputs": [],
   "source": [
    "from pandas import Series, DataFrame\n",
    "import pandas as pd\n",
    "import numpy as np\n",
    "import os\n",
    "import matplotlib.pylab as plt\n",
    "from sklearn.model_selection import train_test_split\n",
    "from sklearn.tree import DecisionTreeClassifier\n",
    "from sklearn.metrics import classification_report\n",
    "import sklearn.metrics"
   ]
  },
  {
   "cell_type": "code",
   "execution_count": 2,
   "metadata": {},
   "outputs": [],
   "source": [
    "os.chdir(\"C:/Demo spy/Decision tree/\")"
   ]
  },
  {
   "cell_type": "code",
   "execution_count": 3,
   "metadata": {},
   "outputs": [],
   "source": [
    "\"\"\"\n",
    "Data Engineering and Analysis\n",
    "\"\"\"\n",
    "#Load the dataset\n",
    "\n",
    "AH_data = pd.read_csv(\"tree_addhealth.csv\")"
   ]
  },
  {
   "cell_type": "code",
   "execution_count": 4,
   "metadata": {},
   "outputs": [
    {
     "data": {
      "text/html": [
       "<div>\n",
       "<style scoped>\n",
       "    .dataframe tbody tr th:only-of-type {\n",
       "        vertical-align: middle;\n",
       "    }\n",
       "\n",
       "    .dataframe tbody tr th {\n",
       "        vertical-align: top;\n",
       "    }\n",
       "\n",
       "    .dataframe thead th {\n",
       "        text-align: right;\n",
       "    }\n",
       "</style>\n",
       "<table border=\"1\" class=\"dataframe\">\n",
       "  <thead>\n",
       "    <tr style=\"text-align: right;\">\n",
       "      <th></th>\n",
       "      <th>BIO_SEX</th>\n",
       "      <th>HISPANIC</th>\n",
       "      <th>WHITE</th>\n",
       "      <th>BLACK</th>\n",
       "      <th>NAMERICAN</th>\n",
       "      <th>ASIAN</th>\n",
       "      <th>age</th>\n",
       "      <th>TREG1</th>\n",
       "      <th>ALCEVR1</th>\n",
       "      <th>ALCPROBS1</th>\n",
       "      <th>...</th>\n",
       "      <th>ESTEEM1</th>\n",
       "      <th>VIOL1</th>\n",
       "      <th>PASSIST</th>\n",
       "      <th>DEVIANT1</th>\n",
       "      <th>SCHCONN1</th>\n",
       "      <th>GPA1</th>\n",
       "      <th>EXPEL1</th>\n",
       "      <th>FAMCONCT</th>\n",
       "      <th>PARACTV</th>\n",
       "      <th>PARPRES</th>\n",
       "    </tr>\n",
       "  </thead>\n",
       "  <tbody>\n",
       "    <tr>\n",
       "      <th>0</th>\n",
       "      <td>2.0</td>\n",
       "      <td>0.0</td>\n",
       "      <td>0.0</td>\n",
       "      <td>1.0</td>\n",
       "      <td>0.0</td>\n",
       "      <td>0.0</td>\n",
       "      <td>NaN</td>\n",
       "      <td>0.0</td>\n",
       "      <td>1.0</td>\n",
       "      <td>2</td>\n",
       "      <td>...</td>\n",
       "      <td>47.0</td>\n",
       "      <td>4.0</td>\n",
       "      <td>0</td>\n",
       "      <td>5.0</td>\n",
       "      <td>NaN</td>\n",
       "      <td>NaN</td>\n",
       "      <td>0.0</td>\n",
       "      <td>24.3</td>\n",
       "      <td>8.0</td>\n",
       "      <td>15.0</td>\n",
       "    </tr>\n",
       "    <tr>\n",
       "      <th>1</th>\n",
       "      <td>2.0</td>\n",
       "      <td>0.0</td>\n",
       "      <td>0.0</td>\n",
       "      <td>1.0</td>\n",
       "      <td>0.0</td>\n",
       "      <td>0.0</td>\n",
       "      <td>19.427397</td>\n",
       "      <td>1.0</td>\n",
       "      <td>1.0</td>\n",
       "      <td>1</td>\n",
       "      <td>...</td>\n",
       "      <td>35.0</td>\n",
       "      <td>1.0</td>\n",
       "      <td>0</td>\n",
       "      <td>5.0</td>\n",
       "      <td>22.0</td>\n",
       "      <td>2.333333</td>\n",
       "      <td>0.0</td>\n",
       "      <td>23.3</td>\n",
       "      <td>9.0</td>\n",
       "      <td>15.0</td>\n",
       "    </tr>\n",
       "    <tr>\n",
       "      <th>2</th>\n",
       "      <td>1.0</td>\n",
       "      <td>0.0</td>\n",
       "      <td>1.0</td>\n",
       "      <td>0.0</td>\n",
       "      <td>0.0</td>\n",
       "      <td>0.0</td>\n",
       "      <td>NaN</td>\n",
       "      <td>0.0</td>\n",
       "      <td>0.0</td>\n",
       "      <td>0</td>\n",
       "      <td>...</td>\n",
       "      <td>45.0</td>\n",
       "      <td>0.0</td>\n",
       "      <td>0</td>\n",
       "      <td>1.0</td>\n",
       "      <td>30.0</td>\n",
       "      <td>2.250000</td>\n",
       "      <td>0.0</td>\n",
       "      <td>24.3</td>\n",
       "      <td>3.0</td>\n",
       "      <td>15.0</td>\n",
       "    </tr>\n",
       "    <tr>\n",
       "      <th>3</th>\n",
       "      <td>1.0</td>\n",
       "      <td>0.0</td>\n",
       "      <td>0.0</td>\n",
       "      <td>1.0</td>\n",
       "      <td>0.0</td>\n",
       "      <td>0.0</td>\n",
       "      <td>20.430137</td>\n",
       "      <td>1.0</td>\n",
       "      <td>0.0</td>\n",
       "      <td>0</td>\n",
       "      <td>...</td>\n",
       "      <td>47.0</td>\n",
       "      <td>4.0</td>\n",
       "      <td>1</td>\n",
       "      <td>4.0</td>\n",
       "      <td>19.0</td>\n",
       "      <td>2.000000</td>\n",
       "      <td>0.0</td>\n",
       "      <td>18.7</td>\n",
       "      <td>6.0</td>\n",
       "      <td>14.0</td>\n",
       "    </tr>\n",
       "    <tr>\n",
       "      <th>4</th>\n",
       "      <td>2.0</td>\n",
       "      <td>0.0</td>\n",
       "      <td>0.0</td>\n",
       "      <td>1.0</td>\n",
       "      <td>0.0</td>\n",
       "      <td>0.0</td>\n",
       "      <td>NaN</td>\n",
       "      <td>0.0</td>\n",
       "      <td>1.0</td>\n",
       "      <td>0</td>\n",
       "      <td>...</td>\n",
       "      <td>39.0</td>\n",
       "      <td>0.0</td>\n",
       "      <td>0</td>\n",
       "      <td>5.0</td>\n",
       "      <td>32.0</td>\n",
       "      <td>3.000000</td>\n",
       "      <td>0.0</td>\n",
       "      <td>20.0</td>\n",
       "      <td>9.0</td>\n",
       "      <td>6.0</td>\n",
       "    </tr>\n",
       "  </tbody>\n",
       "</table>\n",
       "<p>5 rows × 25 columns</p>\n",
       "</div>"
      ],
      "text/plain": [
       "   BIO_SEX  HISPANIC  WHITE  BLACK  NAMERICAN  ASIAN        age  TREG1  \\\n",
       "0      2.0       0.0    0.0    1.0        0.0    0.0        NaN    0.0   \n",
       "1      2.0       0.0    0.0    1.0        0.0    0.0  19.427397    1.0   \n",
       "2      1.0       0.0    1.0    0.0        0.0    0.0        NaN    0.0   \n",
       "3      1.0       0.0    0.0    1.0        0.0    0.0  20.430137    1.0   \n",
       "4      2.0       0.0    0.0    1.0        0.0    0.0        NaN    0.0   \n",
       "\n",
       "   ALCEVR1  ALCPROBS1  ...  ESTEEM1  VIOL1  PASSIST  DEVIANT1  SCHCONN1  \\\n",
       "0      1.0          2  ...     47.0    4.0        0       5.0       NaN   \n",
       "1      1.0          1  ...     35.0    1.0        0       5.0      22.0   \n",
       "2      0.0          0  ...     45.0    0.0        0       1.0      30.0   \n",
       "3      0.0          0  ...     47.0    4.0        1       4.0      19.0   \n",
       "4      1.0          0  ...     39.0    0.0        0       5.0      32.0   \n",
       "\n",
       "       GPA1  EXPEL1  FAMCONCT  PARACTV  PARPRES  \n",
       "0       NaN     0.0      24.3      8.0     15.0  \n",
       "1  2.333333     0.0      23.3      9.0     15.0  \n",
       "2  2.250000     0.0      24.3      3.0     15.0  \n",
       "3  2.000000     0.0      18.7      6.0     14.0  \n",
       "4  3.000000     0.0      20.0      9.0      6.0  \n",
       "\n",
       "[5 rows x 25 columns]"
      ]
     },
     "execution_count": 4,
     "metadata": {},
     "output_type": "execute_result"
    }
   ],
   "source": [
    "AH_data.head()"
   ]
  },
  {
   "cell_type": "code",
   "execution_count": 5,
   "metadata": {},
   "outputs": [],
   "source": [
    "data_clean = AH_data.dropna()"
   ]
  },
  {
   "cell_type": "code",
   "execution_count": 6,
   "metadata": {},
   "outputs": [
    {
     "data": {
      "text/plain": [
       "BIO_SEX      float64\n",
       "HISPANIC     float64\n",
       "WHITE        float64\n",
       "BLACK        float64\n",
       "NAMERICAN    float64\n",
       "ASIAN        float64\n",
       "age          float64\n",
       "TREG1        float64\n",
       "ALCEVR1      float64\n",
       "ALCPROBS1      int64\n",
       "marever1       int64\n",
       "cocever1       int64\n",
       "inhever1       int64\n",
       "cigavail     float64\n",
       "DEP1         float64\n",
       "ESTEEM1      float64\n",
       "VIOL1        float64\n",
       "PASSIST        int64\n",
       "DEVIANT1     float64\n",
       "SCHCONN1     float64\n",
       "GPA1         float64\n",
       "EXPEL1       float64\n",
       "FAMCONCT     float64\n",
       "PARACTV      float64\n",
       "PARPRES      float64\n",
       "dtype: object"
      ]
     },
     "execution_count": 6,
     "metadata": {},
     "output_type": "execute_result"
    }
   ],
   "source": [
    "data_clean.dtypes"
   ]
  },
  {
   "cell_type": "code",
   "execution_count": 7,
   "metadata": {},
   "outputs": [
    {
     "data": {
      "text/html": [
       "<div>\n",
       "<style scoped>\n",
       "    .dataframe tbody tr th:only-of-type {\n",
       "        vertical-align: middle;\n",
       "    }\n",
       "\n",
       "    .dataframe tbody tr th {\n",
       "        vertical-align: top;\n",
       "    }\n",
       "\n",
       "    .dataframe thead th {\n",
       "        text-align: right;\n",
       "    }\n",
       "</style>\n",
       "<table border=\"1\" class=\"dataframe\">\n",
       "  <thead>\n",
       "    <tr style=\"text-align: right;\">\n",
       "      <th></th>\n",
       "      <th>BIO_SEX</th>\n",
       "      <th>HISPANIC</th>\n",
       "      <th>WHITE</th>\n",
       "      <th>BLACK</th>\n",
       "      <th>NAMERICAN</th>\n",
       "      <th>ASIAN</th>\n",
       "      <th>age</th>\n",
       "      <th>TREG1</th>\n",
       "      <th>ALCEVR1</th>\n",
       "      <th>ALCPROBS1</th>\n",
       "      <th>...</th>\n",
       "      <th>ESTEEM1</th>\n",
       "      <th>VIOL1</th>\n",
       "      <th>PASSIST</th>\n",
       "      <th>DEVIANT1</th>\n",
       "      <th>SCHCONN1</th>\n",
       "      <th>GPA1</th>\n",
       "      <th>EXPEL1</th>\n",
       "      <th>FAMCONCT</th>\n",
       "      <th>PARACTV</th>\n",
       "      <th>PARPRES</th>\n",
       "    </tr>\n",
       "  </thead>\n",
       "  <tbody>\n",
       "    <tr>\n",
       "      <th>count</th>\n",
       "      <td>4575.000000</td>\n",
       "      <td>4575.000000</td>\n",
       "      <td>4575.000000</td>\n",
       "      <td>4575.000000</td>\n",
       "      <td>4575.000000</td>\n",
       "      <td>4575.000000</td>\n",
       "      <td>4575.000000</td>\n",
       "      <td>4575.000000</td>\n",
       "      <td>4575.000000</td>\n",
       "      <td>4575.000000</td>\n",
       "      <td>...</td>\n",
       "      <td>4575.000000</td>\n",
       "      <td>4575.000000</td>\n",
       "      <td>4575.000000</td>\n",
       "      <td>4575.000000</td>\n",
       "      <td>4575.000000</td>\n",
       "      <td>4575.000000</td>\n",
       "      <td>4575.000000</td>\n",
       "      <td>4575.000000</td>\n",
       "      <td>4575.000000</td>\n",
       "      <td>4575.000000</td>\n",
       "    </tr>\n",
       "    <tr>\n",
       "      <th>mean</th>\n",
       "      <td>1.521093</td>\n",
       "      <td>0.111038</td>\n",
       "      <td>0.683279</td>\n",
       "      <td>0.236066</td>\n",
       "      <td>0.036284</td>\n",
       "      <td>0.040437</td>\n",
       "      <td>16.493052</td>\n",
       "      <td>0.176393</td>\n",
       "      <td>0.527432</td>\n",
       "      <td>0.369180</td>\n",
       "      <td>...</td>\n",
       "      <td>40.952131</td>\n",
       "      <td>1.618579</td>\n",
       "      <td>0.102514</td>\n",
       "      <td>2.645027</td>\n",
       "      <td>28.360656</td>\n",
       "      <td>2.815647</td>\n",
       "      <td>0.040219</td>\n",
       "      <td>22.570557</td>\n",
       "      <td>6.290710</td>\n",
       "      <td>13.398033</td>\n",
       "    </tr>\n",
       "    <tr>\n",
       "      <th>std</th>\n",
       "      <td>0.499609</td>\n",
       "      <td>0.314214</td>\n",
       "      <td>0.465249</td>\n",
       "      <td>0.424709</td>\n",
       "      <td>0.187017</td>\n",
       "      <td>0.197004</td>\n",
       "      <td>1.552174</td>\n",
       "      <td>0.381196</td>\n",
       "      <td>0.499302</td>\n",
       "      <td>0.894947</td>\n",
       "      <td>...</td>\n",
       "      <td>5.381439</td>\n",
       "      <td>2.593230</td>\n",
       "      <td>0.303356</td>\n",
       "      <td>3.520554</td>\n",
       "      <td>5.156385</td>\n",
       "      <td>0.770167</td>\n",
       "      <td>0.196493</td>\n",
       "      <td>2.614754</td>\n",
       "      <td>3.360219</td>\n",
       "      <td>2.085837</td>\n",
       "    </tr>\n",
       "    <tr>\n",
       "      <th>min</th>\n",
       "      <td>1.000000</td>\n",
       "      <td>0.000000</td>\n",
       "      <td>0.000000</td>\n",
       "      <td>0.000000</td>\n",
       "      <td>0.000000</td>\n",
       "      <td>0.000000</td>\n",
       "      <td>12.676712</td>\n",
       "      <td>0.000000</td>\n",
       "      <td>0.000000</td>\n",
       "      <td>0.000000</td>\n",
       "      <td>...</td>\n",
       "      <td>18.000000</td>\n",
       "      <td>0.000000</td>\n",
       "      <td>0.000000</td>\n",
       "      <td>0.000000</td>\n",
       "      <td>6.000000</td>\n",
       "      <td>1.000000</td>\n",
       "      <td>0.000000</td>\n",
       "      <td>6.300000</td>\n",
       "      <td>0.000000</td>\n",
       "      <td>3.000000</td>\n",
       "    </tr>\n",
       "    <tr>\n",
       "      <th>25%</th>\n",
       "      <td>1.000000</td>\n",
       "      <td>0.000000</td>\n",
       "      <td>0.000000</td>\n",
       "      <td>0.000000</td>\n",
       "      <td>0.000000</td>\n",
       "      <td>0.000000</td>\n",
       "      <td>15.254795</td>\n",
       "      <td>0.000000</td>\n",
       "      <td>0.000000</td>\n",
       "      <td>0.000000</td>\n",
       "      <td>...</td>\n",
       "      <td>38.000000</td>\n",
       "      <td>0.000000</td>\n",
       "      <td>0.000000</td>\n",
       "      <td>0.000000</td>\n",
       "      <td>25.000000</td>\n",
       "      <td>2.250000</td>\n",
       "      <td>0.000000</td>\n",
       "      <td>21.700000</td>\n",
       "      <td>4.000000</td>\n",
       "      <td>12.000000</td>\n",
       "    </tr>\n",
       "    <tr>\n",
       "      <th>50%</th>\n",
       "      <td>2.000000</td>\n",
       "      <td>0.000000</td>\n",
       "      <td>1.000000</td>\n",
       "      <td>0.000000</td>\n",
       "      <td>0.000000</td>\n",
       "      <td>0.000000</td>\n",
       "      <td>16.509589</td>\n",
       "      <td>0.000000</td>\n",
       "      <td>1.000000</td>\n",
       "      <td>0.000000</td>\n",
       "      <td>...</td>\n",
       "      <td>40.000000</td>\n",
       "      <td>0.000000</td>\n",
       "      <td>0.000000</td>\n",
       "      <td>1.000000</td>\n",
       "      <td>29.000000</td>\n",
       "      <td>2.750000</td>\n",
       "      <td>0.000000</td>\n",
       "      <td>23.700000</td>\n",
       "      <td>6.000000</td>\n",
       "      <td>14.000000</td>\n",
       "    </tr>\n",
       "    <tr>\n",
       "      <th>75%</th>\n",
       "      <td>2.000000</td>\n",
       "      <td>0.000000</td>\n",
       "      <td>1.000000</td>\n",
       "      <td>0.000000</td>\n",
       "      <td>0.000000</td>\n",
       "      <td>0.000000</td>\n",
       "      <td>17.679452</td>\n",
       "      <td>0.000000</td>\n",
       "      <td>1.000000</td>\n",
       "      <td>0.000000</td>\n",
       "      <td>...</td>\n",
       "      <td>45.000000</td>\n",
       "      <td>2.000000</td>\n",
       "      <td>0.000000</td>\n",
       "      <td>4.000000</td>\n",
       "      <td>32.000000</td>\n",
       "      <td>3.500000</td>\n",
       "      <td>0.000000</td>\n",
       "      <td>24.300000</td>\n",
       "      <td>9.000000</td>\n",
       "      <td>15.000000</td>\n",
       "    </tr>\n",
       "    <tr>\n",
       "      <th>max</th>\n",
       "      <td>2.000000</td>\n",
       "      <td>1.000000</td>\n",
       "      <td>1.000000</td>\n",
       "      <td>1.000000</td>\n",
       "      <td>1.000000</td>\n",
       "      <td>1.000000</td>\n",
       "      <td>21.512329</td>\n",
       "      <td>1.000000</td>\n",
       "      <td>1.000000</td>\n",
       "      <td>6.000000</td>\n",
       "      <td>...</td>\n",
       "      <td>50.000000</td>\n",
       "      <td>19.000000</td>\n",
       "      <td>1.000000</td>\n",
       "      <td>27.000000</td>\n",
       "      <td>38.000000</td>\n",
       "      <td>4.000000</td>\n",
       "      <td>1.000000</td>\n",
       "      <td>25.000000</td>\n",
       "      <td>18.000000</td>\n",
       "      <td>15.000000</td>\n",
       "    </tr>\n",
       "  </tbody>\n",
       "</table>\n",
       "<p>8 rows × 25 columns</p>\n",
       "</div>"
      ],
      "text/plain": [
       "           BIO_SEX     HISPANIC        WHITE        BLACK    NAMERICAN  \\\n",
       "count  4575.000000  4575.000000  4575.000000  4575.000000  4575.000000   \n",
       "mean      1.521093     0.111038     0.683279     0.236066     0.036284   \n",
       "std       0.499609     0.314214     0.465249     0.424709     0.187017   \n",
       "min       1.000000     0.000000     0.000000     0.000000     0.000000   \n",
       "25%       1.000000     0.000000     0.000000     0.000000     0.000000   \n",
       "50%       2.000000     0.000000     1.000000     0.000000     0.000000   \n",
       "75%       2.000000     0.000000     1.000000     0.000000     0.000000   \n",
       "max       2.000000     1.000000     1.000000     1.000000     1.000000   \n",
       "\n",
       "             ASIAN          age        TREG1      ALCEVR1    ALCPROBS1  ...  \\\n",
       "count  4575.000000  4575.000000  4575.000000  4575.000000  4575.000000  ...   \n",
       "mean      0.040437    16.493052     0.176393     0.527432     0.369180  ...   \n",
       "std       0.197004     1.552174     0.381196     0.499302     0.894947  ...   \n",
       "min       0.000000    12.676712     0.000000     0.000000     0.000000  ...   \n",
       "25%       0.000000    15.254795     0.000000     0.000000     0.000000  ...   \n",
       "50%       0.000000    16.509589     0.000000     1.000000     0.000000  ...   \n",
       "75%       0.000000    17.679452     0.000000     1.000000     0.000000  ...   \n",
       "max       1.000000    21.512329     1.000000     1.000000     6.000000  ...   \n",
       "\n",
       "           ESTEEM1        VIOL1      PASSIST     DEVIANT1     SCHCONN1  \\\n",
       "count  4575.000000  4575.000000  4575.000000  4575.000000  4575.000000   \n",
       "mean     40.952131     1.618579     0.102514     2.645027    28.360656   \n",
       "std       5.381439     2.593230     0.303356     3.520554     5.156385   \n",
       "min      18.000000     0.000000     0.000000     0.000000     6.000000   \n",
       "25%      38.000000     0.000000     0.000000     0.000000    25.000000   \n",
       "50%      40.000000     0.000000     0.000000     1.000000    29.000000   \n",
       "75%      45.000000     2.000000     0.000000     4.000000    32.000000   \n",
       "max      50.000000    19.000000     1.000000    27.000000    38.000000   \n",
       "\n",
       "              GPA1       EXPEL1     FAMCONCT      PARACTV      PARPRES  \n",
       "count  4575.000000  4575.000000  4575.000000  4575.000000  4575.000000  \n",
       "mean      2.815647     0.040219    22.570557     6.290710    13.398033  \n",
       "std       0.770167     0.196493     2.614754     3.360219     2.085837  \n",
       "min       1.000000     0.000000     6.300000     0.000000     3.000000  \n",
       "25%       2.250000     0.000000    21.700000     4.000000    12.000000  \n",
       "50%       2.750000     0.000000    23.700000     6.000000    14.000000  \n",
       "75%       3.500000     0.000000    24.300000     9.000000    15.000000  \n",
       "max       4.000000     1.000000    25.000000    18.000000    15.000000  \n",
       "\n",
       "[8 rows x 25 columns]"
      ]
     },
     "execution_count": 7,
     "metadata": {},
     "output_type": "execute_result"
    }
   ],
   "source": [
    "data_clean.describe()"
   ]
  },
  {
   "cell_type": "code",
   "execution_count": 8,
   "metadata": {},
   "outputs": [],
   "source": [
    "\"\"\"\n",
    "Modeling and Prediction\n",
    "\"\"\"\n",
    "#Split into training and testing sets\n",
    "\n",
    "\"\"\" ORIGINAL DATA.... \n",
    "predictors = data_clean[['BIO_SEX','HISPANIC','WHITE','BLACK','NAMERICAN','ASIAN',\n",
    "'age','ALCEVR1','ALCPROBS1','marever1','cocever1','inhever1','cigavail','DEP1',\n",
    "'ESTEEM1','VIOL1','PASSIST','DEVIANT1','SCHCONN1','GPA1','EXPEL1','FAMCONCT','PARACTV',\n",
    "'PARPRES']]\n",
    "\"\"\"\n",
    "\n",
    "# predictors = data_clean[['BIO_SEX','HISPANIC','WHITE','BLACK','NAMERICAN','ASIAN']]\n",
    "\n",
    "\n",
    "predictors = data_clean[['DEVIANT1','HISPANIC','WHITE','BLACK']]"
   ]
  },
  {
   "cell_type": "code",
   "execution_count": 9,
   "metadata": {},
   "outputs": [],
   "source": [
    "targets = data_clean.TREG1\n",
    "\n",
    "pred_train, pred_test, tar_train, tar_test  =   train_test_split(predictors, targets, test_size=.4)"
   ]
  },
  {
   "cell_type": "code",
   "execution_count": 10,
   "metadata": {},
   "outputs": [
    {
     "data": {
      "text/plain": [
       "(2745, 4)"
      ]
     },
     "execution_count": 10,
     "metadata": {},
     "output_type": "execute_result"
    }
   ],
   "source": [
    "pred_train.shape"
   ]
  },
  {
   "cell_type": "code",
   "execution_count": 11,
   "metadata": {},
   "outputs": [
    {
     "data": {
      "text/plain": [
       "(1830, 4)"
      ]
     },
     "execution_count": 11,
     "metadata": {},
     "output_type": "execute_result"
    }
   ],
   "source": [
    "pred_test.shape"
   ]
  },
  {
   "cell_type": "code",
   "execution_count": 12,
   "metadata": {},
   "outputs": [
    {
     "data": {
      "text/plain": [
       "(2745,)"
      ]
     },
     "execution_count": 12,
     "metadata": {},
     "output_type": "execute_result"
    }
   ],
   "source": [
    "tar_train.shape"
   ]
  },
  {
   "cell_type": "code",
   "execution_count": 13,
   "metadata": {},
   "outputs": [
    {
     "data": {
      "text/plain": [
       "(1830,)"
      ]
     },
     "execution_count": 13,
     "metadata": {},
     "output_type": "execute_result"
    }
   ],
   "source": [
    "tar_test.shape"
   ]
  },
  {
   "cell_type": "code",
   "execution_count": 14,
   "metadata": {},
   "outputs": [],
   "source": [
    "#Build model on training data\n",
    "classifier=DecisionTreeClassifier(max_depth=3)"
   ]
  },
  {
   "cell_type": "code",
   "execution_count": 15,
   "metadata": {},
   "outputs": [],
   "source": [
    "classifier=classifier.fit(pred_train,tar_train)"
   ]
  },
  {
   "cell_type": "code",
   "execution_count": 16,
   "metadata": {},
   "outputs": [],
   "source": [
    "predictions=classifier.predict(pred_test)"
   ]
  },
  {
   "cell_type": "code",
   "execution_count": 17,
   "metadata": {},
   "outputs": [
    {
     "data": {
      "text/plain": [
       "array([[1502,    1],\n",
       "       [ 326,    1]], dtype=int64)"
      ]
     },
     "execution_count": 17,
     "metadata": {},
     "output_type": "execute_result"
    }
   ],
   "source": [
    "\"\"\" Confusion Matrix \"\"\"\n",
    "sklearn.metrics.confusion_matrix(tar_test,predictions)"
   ]
  },
  {
   "cell_type": "code",
   "execution_count": 18,
   "metadata": {},
   "outputs": [
    {
     "data": {
      "text/plain": [
       "0.8213114754098361"
      ]
     },
     "execution_count": 18,
     "metadata": {},
     "output_type": "execute_result"
    }
   ],
   "source": [
    "\"\"\" Accuracy Score \"\"\"\n",
    "sklearn.metrics.accuracy_score(tar_test, predictions)"
   ]
  },
  {
   "cell_type": "code",
   "execution_count": 19,
   "metadata": {},
   "outputs": [],
   "source": [
    "#Displaying the decision tree\n",
    "from sklearn import tree"
   ]
  },
  {
   "cell_type": "code",
   "execution_count": 20,
   "metadata": {},
   "outputs": [],
   "source": [
    "#from StringIO import StringIO\n",
    "# from io import StringIO \n",
    "#from io import BytesIO\n",
    "# if error limit, setting => notebook.output.textLineLimit\n",
    "from io import StringIO\n",
    "from IPython.display import Image\n",
    "out = StringIO()\n",
    "#out = BytesIO()"
   ]
  },
  {
   "cell_type": "code",
   "execution_count": 21,
   "metadata": {},
   "outputs": [],
   "source": [
    "#pip install graphviz"
   ]
  },
  {
   "cell_type": "code",
   "execution_count": 22,
   "metadata": {},
   "outputs": [],
   "source": [
    "#tree.export_graphviz(classifier, out_file=out, class_names='class', filled=True, rounded=True, special_characters=True)\n",
    "\n",
    "dot_data = tree.export_graphviz(classifier, out_file=None, class_names='class', filled=True, rounded=True, special_characters=True)"
   ]
  },
  {
   "cell_type": "code",
   "execution_count": 23,
   "metadata": {},
   "outputs": [],
   "source": [
    "#pip install pydotplus"
   ]
  },
  {
   "cell_type": "code",
   "execution_count": 25,
   "metadata": {},
   "outputs": [],
   "source": [
    "import pydotplus\n",
    "import graphviz\n",
    "# download to install Graphviz path : https://www.graphviz.org/download/"
   ]
  },
  {
   "cell_type": "code",
   "execution_count": 26,
   "metadata": {},
   "outputs": [],
   "source": [
    "\n",
    "from IPython.display import Image  \n",
    "from sklearn.tree import export_graphviz\n",
    "import os\n",
    "#os.environ[\"PATH\"] += os.pathsep + 'C:/Users/tstusr/AppData/Local/Continuum/anaconda3/pkgs/Graphviz2.38/bin'"
   ]
  },
  {
   "cell_type": "code",
   "execution_count": 27,
   "metadata": {},
   "outputs": [],
   "source": [
    "#import sys\n",
    "#sys.path.append('C:/Users/usrname/AppData/Local/Continuum/anaconda3/Library/bin/graphviz/')"
   ]
  },
  {
   "cell_type": "code",
   "execution_count": 28,
   "metadata": {},
   "outputs": [
    {
     "data": {
      "image/svg+xml": "<?xml version=\"1.0\" encoding=\"UTF-8\" standalone=\"no\"?>\n<!DOCTYPE svg PUBLIC \"-//W3C//DTD SVG 1.1//EN\"\n \"http://www.w3.org/Graphics/SVG/1.1/DTD/svg11.dtd\">\n<!-- Generated by graphviz version 5.0.0 (20220707.1540)\n -->\n<!-- Title: Tree Pages: 1 -->\n<svg width=\"1084pt\" height=\"418pt\"\n viewBox=\"0.00 0.00 1084.00 418.00\" xmlns=\"http://www.w3.org/2000/svg\" xmlns:xlink=\"http://www.w3.org/1999/xlink\">\n<g id=\"graph0\" class=\"graph\" transform=\"scale(1 1) rotate(0) translate(4 414)\">\n<title>Tree</title>\n<polygon fill=\"white\" stroke=\"transparent\" points=\"-4,4 -4,-414 1080,-414 1080,4 -4,4\"/>\n<!-- 0 -->\n<g id=\"node1\" class=\"node\">\n<title>0</title>\n<path fill=\"#eb9c63\" stroke=\"black\" d=\"M600,-410C600,-410 486,-410 486,-410 480,-410 474,-404 474,-398 474,-398 474,-344 474,-344 474,-338 480,-332 486,-332 486,-332 600,-332 600,-332 606,-332 612,-338 612,-344 612,-344 612,-398 612,-398 612,-404 606,-410 600,-410\"/>\n<text text-anchor=\"start\" x=\"518\" y=\"-395.8\" font-family=\"Helvetica,sans-Serif\" font-size=\"14.00\">x</text>\n<text text-anchor=\"start\" x=\"525\" y=\"-395.8\" font-family=\"Helvetica,sans-Serif\" baseline-shift=\"sub\" font-size=\"14.00\">0</text>\n<text text-anchor=\"start\" x=\"532\" y=\"-395.8\" font-family=\"Helvetica,sans-Serif\" font-size=\"14.00\"> ≤ 3.5</text>\n<text text-anchor=\"start\" x=\"505.5\" y=\"-381.8\" font-family=\"Helvetica,sans-Serif\" font-size=\"14.00\">gini = 0.289</text>\n<text text-anchor=\"start\" x=\"491.5\" y=\"-367.8\" font-family=\"Helvetica,sans-Serif\" font-size=\"14.00\">samples = 2745</text>\n<text text-anchor=\"start\" x=\"482\" y=\"-353.8\" font-family=\"Helvetica,sans-Serif\" font-size=\"14.00\">value = [2265, 480]</text>\n<text text-anchor=\"start\" x=\"514.5\" y=\"-339.8\" font-family=\"Helvetica,sans-Serif\" font-size=\"14.00\">class = c</text>\n</g>\n<!-- 1 -->\n<g id=\"node2\" class=\"node\">\n<title>1</title>\n<path fill=\"#e89051\" stroke=\"black\" d=\"M473,-296C473,-296 359,-296 359,-296 353,-296 347,-290 347,-284 347,-284 347,-230 347,-230 347,-224 353,-218 359,-218 359,-218 473,-218 473,-218 479,-218 485,-224 485,-230 485,-230 485,-284 485,-284 485,-290 479,-296 473,-296\"/>\n<text text-anchor=\"start\" x=\"391\" y=\"-281.8\" font-family=\"Helvetica,sans-Serif\" font-size=\"14.00\">x</text>\n<text text-anchor=\"start\" x=\"398\" y=\"-281.8\" font-family=\"Helvetica,sans-Serif\" baseline-shift=\"sub\" font-size=\"14.00\">3</text>\n<text text-anchor=\"start\" x=\"405\" y=\"-281.8\" font-family=\"Helvetica,sans-Serif\" font-size=\"14.00\"> ≤ 0.5</text>\n<text text-anchor=\"start\" x=\"378.5\" y=\"-267.8\" font-family=\"Helvetica,sans-Serif\" font-size=\"14.00\">gini = 0.194</text>\n<text text-anchor=\"start\" x=\"364.5\" y=\"-253.8\" font-family=\"Helvetica,sans-Serif\" font-size=\"14.00\">samples = 2017</text>\n<text text-anchor=\"start\" x=\"355\" y=\"-239.8\" font-family=\"Helvetica,sans-Serif\" font-size=\"14.00\">value = [1798, 219]</text>\n<text text-anchor=\"start\" x=\"387.5\" y=\"-225.8\" font-family=\"Helvetica,sans-Serif\" font-size=\"14.00\">class = c</text>\n</g>\n<!-- 0&#45;&gt;1 -->\n<g id=\"edge1\" class=\"edge\">\n<title>0&#45;&gt;1</title>\n<path fill=\"none\" stroke=\"black\" d=\"M499.65,-331.77C489.13,-322.49 477.78,-312.48 466.94,-302.92\"/>\n<polygon fill=\"black\" stroke=\"black\" points=\"468.97,-300.05 459.16,-296.06 464.34,-305.3 468.97,-300.05\"/>\n<text text-anchor=\"middle\" x=\"460.72\" y=\"-317.31\" font-family=\"Helvetica,sans-Serif\" font-size=\"14.00\">True</text>\n</g>\n<!-- 8 -->\n<g id=\"node9\" class=\"node\">\n<title>8</title>\n<path fill=\"#f4c7a8\" stroke=\"black\" d=\"M726,-296C726,-296 620,-296 620,-296 614,-296 608,-290 608,-284 608,-284 608,-230 608,-230 608,-224 614,-218 620,-218 620,-218 726,-218 726,-218 732,-218 738,-224 738,-230 738,-230 738,-284 738,-284 738,-290 732,-296 726,-296\"/>\n<text text-anchor=\"start\" x=\"648\" y=\"-281.8\" font-family=\"Helvetica,sans-Serif\" font-size=\"14.00\">x</text>\n<text text-anchor=\"start\" x=\"655\" y=\"-281.8\" font-family=\"Helvetica,sans-Serif\" baseline-shift=\"sub\" font-size=\"14.00\">2</text>\n<text text-anchor=\"start\" x=\"662\" y=\"-281.8\" font-family=\"Helvetica,sans-Serif\" font-size=\"14.00\"> ≤ 0.5</text>\n<text text-anchor=\"start\" x=\"639.5\" y=\"-267.8\" font-family=\"Helvetica,sans-Serif\" font-size=\"14.00\">gini = 0.46</text>\n<text text-anchor=\"start\" x=\"625.5\" y=\"-253.8\" font-family=\"Helvetica,sans-Serif\" font-size=\"14.00\">samples = 728</text>\n<text text-anchor=\"start\" x=\"616\" y=\"-239.8\" font-family=\"Helvetica,sans-Serif\" font-size=\"14.00\">value = [467, 261]</text>\n<text text-anchor=\"start\" x=\"644.5\" y=\"-225.8\" font-family=\"Helvetica,sans-Serif\" font-size=\"14.00\">class = c</text>\n</g>\n<!-- 0&#45;&gt;8 -->\n<g id=\"edge8\" class=\"edge\">\n<title>0&#45;&gt;8</title>\n<path fill=\"none\" stroke=\"black\" d=\"M587.38,-331.77C598.25,-322.4 609.99,-312.29 621.18,-302.64\"/>\n<polygon fill=\"black\" stroke=\"black\" points=\"623.53,-305.24 628.82,-296.06 618.96,-299.93 623.53,-305.24\"/>\n<text text-anchor=\"middle\" x=\"626.97\" y=\"-317.29\" font-family=\"Helvetica,sans-Serif\" font-size=\"14.00\">False</text>\n</g>\n<!-- 2 -->\n<g id=\"node3\" class=\"node\">\n<title>2</title>\n<path fill=\"#e99558\" stroke=\"black\" d=\"M274,-182C274,-182 160,-182 160,-182 154,-182 148,-176 148,-170 148,-170 148,-116 148,-116 148,-110 154,-104 160,-104 160,-104 274,-104 274,-104 280,-104 286,-110 286,-116 286,-116 286,-170 286,-170 286,-176 280,-182 274,-182\"/>\n<text text-anchor=\"start\" x=\"192\" y=\"-167.8\" font-family=\"Helvetica,sans-Serif\" font-size=\"14.00\">x</text>\n<text text-anchor=\"start\" x=\"199\" y=\"-167.8\" font-family=\"Helvetica,sans-Serif\" baseline-shift=\"sub\" font-size=\"14.00\">0</text>\n<text text-anchor=\"start\" x=\"206\" y=\"-167.8\" font-family=\"Helvetica,sans-Serif\" font-size=\"14.00\"> ≤ 2.5</text>\n<text text-anchor=\"start\" x=\"179.5\" y=\"-153.8\" font-family=\"Helvetica,sans-Serif\" font-size=\"14.00\">gini = 0.234</text>\n<text text-anchor=\"start\" x=\"165.5\" y=\"-139.8\" font-family=\"Helvetica,sans-Serif\" font-size=\"14.00\">samples = 1538</text>\n<text text-anchor=\"start\" x=\"156\" y=\"-125.8\" font-family=\"Helvetica,sans-Serif\" font-size=\"14.00\">value = [1330, 208]</text>\n<text text-anchor=\"start\" x=\"188.5\" y=\"-111.8\" font-family=\"Helvetica,sans-Serif\" font-size=\"14.00\">class = c</text>\n</g>\n<!-- 1&#45;&gt;2 -->\n<g id=\"edge2\" class=\"edge\">\n<title>1&#45;&gt;2</title>\n<path fill=\"none\" stroke=\"black\" d=\"M348.35,-217.93C330.73,-208.01 311.61,-197.25 293.56,-187.09\"/>\n<polygon fill=\"black\" stroke=\"black\" points=\"295.23,-184.01 284.8,-182.16 291.8,-190.11 295.23,-184.01\"/>\n</g>\n<!-- 5 -->\n<g id=\"node6\" class=\"node\">\n<title>5</title>\n<path fill=\"#e6843e\" stroke=\"black\" d=\"M465,-182C465,-182 367,-182 367,-182 361,-182 355,-176 355,-170 355,-170 355,-116 355,-116 355,-110 361,-104 367,-104 367,-104 465,-104 465,-104 471,-104 477,-110 477,-116 477,-116 477,-170 477,-170 477,-176 471,-182 465,-182\"/>\n<text text-anchor=\"start\" x=\"391\" y=\"-167.8\" font-family=\"Helvetica,sans-Serif\" font-size=\"14.00\">x</text>\n<text text-anchor=\"start\" x=\"398\" y=\"-167.8\" font-family=\"Helvetica,sans-Serif\" baseline-shift=\"sub\" font-size=\"14.00\">0</text>\n<text text-anchor=\"start\" x=\"405\" y=\"-167.8\" font-family=\"Helvetica,sans-Serif\" font-size=\"14.00\"> ≤ 1.5</text>\n<text text-anchor=\"start\" x=\"378.5\" y=\"-153.8\" font-family=\"Helvetica,sans-Serif\" font-size=\"14.00\">gini = 0.045</text>\n<text text-anchor=\"start\" x=\"368.5\" y=\"-139.8\" font-family=\"Helvetica,sans-Serif\" font-size=\"14.00\">samples = 479</text>\n<text text-anchor=\"start\" x=\"363\" y=\"-125.8\" font-family=\"Helvetica,sans-Serif\" font-size=\"14.00\">value = [468, 11]</text>\n<text text-anchor=\"start\" x=\"387.5\" y=\"-111.8\" font-family=\"Helvetica,sans-Serif\" font-size=\"14.00\">class = c</text>\n</g>\n<!-- 1&#45;&gt;5 -->\n<g id=\"edge5\" class=\"edge\">\n<title>1&#45;&gt;5</title>\n<path fill=\"none\" stroke=\"black\" d=\"M416,-217.77C416,-209.57 416,-200.8 416,-192.28\"/>\n<polygon fill=\"black\" stroke=\"black\" points=\"419.5,-192.06 416,-182.06 412.5,-192.06 419.5,-192.06\"/>\n</g>\n<!-- 3 -->\n<g id=\"node4\" class=\"node\">\n<title>3</title>\n<path fill=\"#e89253\" stroke=\"black\" d=\"M126,-68C126,-68 12,-68 12,-68 6,-68 0,-62 0,-56 0,-56 0,-12 0,-12 0,-6 6,0 12,0 12,0 126,0 126,0 132,0 138,-6 138,-12 138,-12 138,-56 138,-56 138,-62 132,-68 126,-68\"/>\n<text text-anchor=\"start\" x=\"31.5\" y=\"-52.8\" font-family=\"Helvetica,sans-Serif\" font-size=\"14.00\">gini = 0.206</text>\n<text text-anchor=\"start\" x=\"17.5\" y=\"-37.8\" font-family=\"Helvetica,sans-Serif\" font-size=\"14.00\">samples = 1323</text>\n<text text-anchor=\"start\" x=\"8\" y=\"-22.8\" font-family=\"Helvetica,sans-Serif\" font-size=\"14.00\">value = [1169, 154]</text>\n<text text-anchor=\"start\" x=\"40.5\" y=\"-7.8\" font-family=\"Helvetica,sans-Serif\" font-size=\"14.00\">class = c</text>\n</g>\n<!-- 2&#45;&gt;3 -->\n<g id=\"edge3\" class=\"edge\">\n<title>2&#45;&gt;3</title>\n<path fill=\"none\" stroke=\"black\" d=\"M164.4,-103.97C151.06,-94.32 136.69,-83.94 123.26,-74.23\"/>\n<polygon fill=\"black\" stroke=\"black\" points=\"125.19,-71.31 115.04,-68.28 121.09,-76.98 125.19,-71.31\"/>\n</g>\n<!-- 4 -->\n<g id=\"node5\" class=\"node\">\n<title>4</title>\n<path fill=\"#eeab7b\" stroke=\"black\" d=\"M266,-68C266,-68 168,-68 168,-68 162,-68 156,-62 156,-56 156,-56 156,-12 156,-12 156,-6 162,0 168,0 168,0 266,0 266,0 272,0 278,-6 278,-12 278,-12 278,-56 278,-56 278,-62 272,-68 266,-68\"/>\n<text text-anchor=\"start\" x=\"179.5\" y=\"-52.8\" font-family=\"Helvetica,sans-Serif\" font-size=\"14.00\">gini = 0.376</text>\n<text text-anchor=\"start\" x=\"169.5\" y=\"-37.8\" font-family=\"Helvetica,sans-Serif\" font-size=\"14.00\">samples = 215</text>\n<text text-anchor=\"start\" x=\"164\" y=\"-22.8\" font-family=\"Helvetica,sans-Serif\" font-size=\"14.00\">value = [161, 54]</text>\n<text text-anchor=\"start\" x=\"188.5\" y=\"-7.8\" font-family=\"Helvetica,sans-Serif\" font-size=\"14.00\">class = c</text>\n</g>\n<!-- 2&#45;&gt;4 -->\n<g id=\"edge4\" class=\"edge\">\n<title>2&#45;&gt;4</title>\n<path fill=\"none\" stroke=\"black\" d=\"M217,-103.97C217,-95.69 217,-86.86 217,-78.39\"/>\n<polygon fill=\"black\" stroke=\"black\" points=\"220.5,-78.28 217,-68.28 213.5,-78.28 220.5,-78.28\"/>\n</g>\n<!-- 6 -->\n<g id=\"node7\" class=\"node\">\n<title>6</title>\n<path fill=\"#e5823a\" stroke=\"black\" d=\"M397.5,-68C397.5,-68 308.5,-68 308.5,-68 302.5,-68 296.5,-62 296.5,-56 296.5,-56 296.5,-12 296.5,-12 296.5,-6 302.5,0 308.5,0 308.5,0 397.5,0 397.5,0 403.5,0 409.5,-6 409.5,-12 409.5,-12 409.5,-56 409.5,-56 409.5,-62 403.5,-68 397.5,-68\"/>\n<text text-anchor=\"start\" x=\"315.5\" y=\"-52.8\" font-family=\"Helvetica,sans-Serif\" font-size=\"14.00\">gini = 0.012</text>\n<text text-anchor=\"start\" x=\"305.5\" y=\"-37.8\" font-family=\"Helvetica,sans-Serif\" font-size=\"14.00\">samples = 331</text>\n<text text-anchor=\"start\" x=\"304.5\" y=\"-22.8\" font-family=\"Helvetica,sans-Serif\" font-size=\"14.00\">value = [329, 2]</text>\n<text text-anchor=\"start\" x=\"324.5\" y=\"-7.8\" font-family=\"Helvetica,sans-Serif\" font-size=\"14.00\">class = c</text>\n</g>\n<!-- 5&#45;&gt;6 -->\n<g id=\"edge6\" class=\"edge\">\n<title>5&#45;&gt;6</title>\n<path fill=\"none\" stroke=\"black\" d=\"M393.61,-103.97C388.47,-95.23 382.96,-85.89 377.73,-76.99\"/>\n<polygon fill=\"black\" stroke=\"black\" points=\"380.69,-75.13 372.6,-68.28 374.66,-78.68 380.69,-75.13\"/>\n</g>\n<!-- 7 -->\n<g id=\"node8\" class=\"node\">\n<title>7</title>\n<path fill=\"#e78946\" stroke=\"black\" d=\"M528.5,-68C528.5,-68 439.5,-68 439.5,-68 433.5,-68 427.5,-62 427.5,-56 427.5,-56 427.5,-12 427.5,-12 427.5,-6 433.5,0 439.5,0 439.5,0 528.5,0 528.5,0 534.5,0 540.5,-6 540.5,-12 540.5,-12 540.5,-56 540.5,-56 540.5,-62 534.5,-68 528.5,-68\"/>\n<text text-anchor=\"start\" x=\"446.5\" y=\"-52.8\" font-family=\"Helvetica,sans-Serif\" font-size=\"14.00\">gini = 0.114</text>\n<text text-anchor=\"start\" x=\"436.5\" y=\"-37.8\" font-family=\"Helvetica,sans-Serif\" font-size=\"14.00\">samples = 148</text>\n<text text-anchor=\"start\" x=\"435.5\" y=\"-22.8\" font-family=\"Helvetica,sans-Serif\" font-size=\"14.00\">value = [139, 9]</text>\n<text text-anchor=\"start\" x=\"455.5\" y=\"-7.8\" font-family=\"Helvetica,sans-Serif\" font-size=\"14.00\">class = c</text>\n</g>\n<!-- 5&#45;&gt;7 -->\n<g id=\"edge7\" class=\"edge\">\n<title>5&#45;&gt;7</title>\n<path fill=\"none\" stroke=\"black\" d=\"M440.17,-103.97C445.72,-95.23 451.66,-85.89 457.31,-76.99\"/>\n<polygon fill=\"black\" stroke=\"black\" points=\"460.44,-78.6 462.85,-68.28 454.53,-74.85 460.44,-78.6\"/>\n</g>\n<!-- 9 -->\n<g id=\"node10\" class=\"node\">\n<title>9</title>\n<path fill=\"#eca572\" stroke=\"black\" d=\"M722,-182C722,-182 624,-182 624,-182 618,-182 612,-176 612,-170 612,-170 612,-116 612,-116 612,-110 618,-104 624,-104 624,-104 722,-104 722,-104 728,-104 734,-110 734,-116 734,-116 734,-170 734,-170 734,-176 728,-182 722,-182\"/>\n<text text-anchor=\"start\" x=\"644\" y=\"-167.8\" font-family=\"Helvetica,sans-Serif\" font-size=\"14.00\">x</text>\n<text text-anchor=\"start\" x=\"651\" y=\"-167.8\" font-family=\"Helvetica,sans-Serif\" baseline-shift=\"sub\" font-size=\"14.00\">0</text>\n<text text-anchor=\"start\" x=\"658\" y=\"-167.8\" font-family=\"Helvetica,sans-Serif\" font-size=\"14.00\"> ≤ 21.5</text>\n<text text-anchor=\"start\" x=\"635.5\" y=\"-153.8\" font-family=\"Helvetica,sans-Serif\" font-size=\"14.00\">gini = 0.347</text>\n<text text-anchor=\"start\" x=\"625.5\" y=\"-139.8\" font-family=\"Helvetica,sans-Serif\" font-size=\"14.00\">samples = 255</text>\n<text text-anchor=\"start\" x=\"620\" y=\"-125.8\" font-family=\"Helvetica,sans-Serif\" font-size=\"14.00\">value = [198, 57]</text>\n<text text-anchor=\"start\" x=\"644.5\" y=\"-111.8\" font-family=\"Helvetica,sans-Serif\" font-size=\"14.00\">class = c</text>\n</g>\n<!-- 8&#45;&gt;9 -->\n<g id=\"edge9\" class=\"edge\">\n<title>8&#45;&gt;9</title>\n<path fill=\"none\" stroke=\"black\" d=\"M673,-217.77C673,-209.57 673,-200.8 673,-192.28\"/>\n<polygon fill=\"black\" stroke=\"black\" points=\"676.5,-192.06 673,-182.06 669.5,-192.06 676.5,-192.06\"/>\n</g>\n<!-- 12 -->\n<g id=\"node13\" class=\"node\">\n<title>12</title>\n<path fill=\"#f9e1cf\" stroke=\"black\" d=\"M924,-182C924,-182 818,-182 818,-182 812,-182 806,-176 806,-170 806,-170 806,-116 806,-116 806,-110 812,-104 818,-104 818,-104 924,-104 924,-104 930,-104 936,-110 936,-116 936,-116 936,-170 936,-170 936,-176 930,-182 924,-182\"/>\n<text text-anchor=\"start\" x=\"846\" y=\"-167.8\" font-family=\"Helvetica,sans-Serif\" font-size=\"14.00\">x</text>\n<text text-anchor=\"start\" x=\"853\" y=\"-167.8\" font-family=\"Helvetica,sans-Serif\" baseline-shift=\"sub\" font-size=\"14.00\">0</text>\n<text text-anchor=\"start\" x=\"860\" y=\"-167.8\" font-family=\"Helvetica,sans-Serif\" font-size=\"14.00\"> ≤ 4.5</text>\n<text text-anchor=\"start\" x=\"833.5\" y=\"-153.8\" font-family=\"Helvetica,sans-Serif\" font-size=\"14.00\">gini = 0.491</text>\n<text text-anchor=\"start\" x=\"823.5\" y=\"-139.8\" font-family=\"Helvetica,sans-Serif\" font-size=\"14.00\">samples = 473</text>\n<text text-anchor=\"start\" x=\"814\" y=\"-125.8\" font-family=\"Helvetica,sans-Serif\" font-size=\"14.00\">value = [269, 204]</text>\n<text text-anchor=\"start\" x=\"842.5\" y=\"-111.8\" font-family=\"Helvetica,sans-Serif\" font-size=\"14.00\">class = c</text>\n</g>\n<!-- 8&#45;&gt;12 -->\n<g id=\"edge12\" class=\"edge\">\n<title>8&#45;&gt;12</title>\n<path fill=\"none\" stroke=\"black\" d=\"M738.11,-219.17C756.97,-208.5 777.7,-196.77 797.07,-185.82\"/>\n<polygon fill=\"black\" stroke=\"black\" points=\"798.87,-188.82 805.85,-180.85 795.43,-182.73 798.87,-188.82\"/>\n</g>\n<!-- 10 -->\n<g id=\"node11\" class=\"node\">\n<title>10</title>\n<path fill=\"#eca36e\" stroke=\"black\" d=\"M669,-68C669,-68 571,-68 571,-68 565,-68 559,-62 559,-56 559,-56 559,-12 559,-12 559,-6 565,0 571,0 571,0 669,0 669,0 675,0 681,-6 681,-12 681,-12 681,-56 681,-56 681,-62 675,-68 669,-68\"/>\n<text text-anchor=\"start\" x=\"582.5\" y=\"-52.8\" font-family=\"Helvetica,sans-Serif\" font-size=\"14.00\">gini = 0.333</text>\n<text text-anchor=\"start\" x=\"572.5\" y=\"-37.8\" font-family=\"Helvetica,sans-Serif\" font-size=\"14.00\">samples = 251</text>\n<text text-anchor=\"start\" x=\"567\" y=\"-22.8\" font-family=\"Helvetica,sans-Serif\" font-size=\"14.00\">value = [198, 53]</text>\n<text text-anchor=\"start\" x=\"591.5\" y=\"-7.8\" font-family=\"Helvetica,sans-Serif\" font-size=\"14.00\">class = c</text>\n</g>\n<!-- 9&#45;&gt;10 -->\n<g id=\"edge10\" class=\"edge\">\n<title>9&#45;&gt;10</title>\n<path fill=\"none\" stroke=\"black\" d=\"M654.16,-103.97C649.88,-95.33 645.3,-86.09 640.94,-77.27\"/>\n<polygon fill=\"black\" stroke=\"black\" points=\"644.06,-75.69 636.49,-68.28 637.79,-78.8 644.06,-75.69\"/>\n</g>\n<!-- 11 -->\n<g id=\"node12\" class=\"node\">\n<title>11</title>\n<path fill=\"#399de5\" stroke=\"black\" d=\"M784.5,-68C784.5,-68 711.5,-68 711.5,-68 705.5,-68 699.5,-62 699.5,-56 699.5,-56 699.5,-12 699.5,-12 699.5,-6 705.5,0 711.5,0 711.5,0 784.5,0 784.5,0 790.5,0 796.5,-6 796.5,-12 796.5,-12 796.5,-56 796.5,-56 796.5,-62 790.5,-68 784.5,-68\"/>\n<text text-anchor=\"start\" x=\"719\" y=\"-52.8\" font-family=\"Helvetica,sans-Serif\" font-size=\"14.00\">gini = 0.0</text>\n<text text-anchor=\"start\" x=\"708.5\" y=\"-37.8\" font-family=\"Helvetica,sans-Serif\" font-size=\"14.00\">samples = 4</text>\n<text text-anchor=\"start\" x=\"707.5\" y=\"-22.8\" font-family=\"Helvetica,sans-Serif\" font-size=\"14.00\">value = [0, 4]</text>\n<text text-anchor=\"start\" x=\"722\" y=\"-7.8\" font-family=\"Helvetica,sans-Serif\" font-size=\"14.00\">class = l</text>\n</g>\n<!-- 9&#45;&gt;11 -->\n<g id=\"edge11\" class=\"edge\">\n<title>9&#45;&gt;11</title>\n<path fill=\"none\" stroke=\"black\" d=\"M699.65,-103.97C705.84,-95.14 712.46,-85.7 718.76,-76.72\"/>\n<polygon fill=\"black\" stroke=\"black\" points=\"721.8,-78.48 724.67,-68.28 716.06,-74.46 721.8,-78.48\"/>\n</g>\n<!-- 13 -->\n<g id=\"node14\" class=\"node\">\n<title>13</title>\n<path fill=\"#f0b88f\" stroke=\"black\" d=\"M915.5,-68C915.5,-68 826.5,-68 826.5,-68 820.5,-68 814.5,-62 814.5,-56 814.5,-56 814.5,-12 814.5,-12 814.5,-6 820.5,0 826.5,0 826.5,0 915.5,0 915.5,0 921.5,0 927.5,-6 927.5,-12 927.5,-12 927.5,-56 927.5,-56 927.5,-62 921.5,-68 915.5,-68\"/>\n<text text-anchor=\"start\" x=\"833.5\" y=\"-52.8\" font-family=\"Helvetica,sans-Serif\" font-size=\"14.00\">gini = 0.422</text>\n<text text-anchor=\"start\" x=\"823.5\" y=\"-37.8\" font-family=\"Helvetica,sans-Serif\" font-size=\"14.00\">samples = 139</text>\n<text text-anchor=\"start\" x=\"822.5\" y=\"-22.8\" font-family=\"Helvetica,sans-Serif\" font-size=\"14.00\">value = [97, 42]</text>\n<text text-anchor=\"start\" x=\"842.5\" y=\"-7.8\" font-family=\"Helvetica,sans-Serif\" font-size=\"14.00\">class = c</text>\n</g>\n<!-- 12&#45;&gt;13 -->\n<g id=\"edge13\" class=\"edge\">\n<title>12&#45;&gt;13</title>\n<path fill=\"none\" stroke=\"black\" d=\"M871,-103.97C871,-95.69 871,-86.86 871,-78.39\"/>\n<polygon fill=\"black\" stroke=\"black\" points=\"874.5,-78.28 871,-68.28 867.5,-78.28 874.5,-78.28\"/>\n</g>\n<!-- 14 -->\n<g id=\"node15\" class=\"node\">\n<title>14</title>\n<path fill=\"#fdf8f3\" stroke=\"black\" d=\"M1064,-68C1064,-68 958,-68 958,-68 952,-68 946,-62 946,-56 946,-56 946,-12 946,-12 946,-6 952,0 958,0 958,0 1064,0 1064,0 1070,0 1076,-6 1076,-12 1076,-12 1076,-56 1076,-56 1076,-62 1070,-68 1064,-68\"/>\n<text text-anchor=\"start\" x=\"982\" y=\"-52.8\" font-family=\"Helvetica,sans-Serif\" font-size=\"14.00\">gini = 0.5</text>\n<text text-anchor=\"start\" x=\"963.5\" y=\"-37.8\" font-family=\"Helvetica,sans-Serif\" font-size=\"14.00\">samples = 334</text>\n<text text-anchor=\"start\" x=\"954\" y=\"-22.8\" font-family=\"Helvetica,sans-Serif\" font-size=\"14.00\">value = [172, 162]</text>\n<text text-anchor=\"start\" x=\"982.5\" y=\"-7.8\" font-family=\"Helvetica,sans-Serif\" font-size=\"14.00\">class = c</text>\n</g>\n<!-- 12&#45;&gt;14 -->\n<g id=\"edge14\" class=\"edge\">\n<title>12&#45;&gt;14</title>\n<path fill=\"none\" stroke=\"black\" d=\"M920.75,-103.97C933.26,-94.42 946.71,-84.13 959.31,-74.51\"/>\n<polygon fill=\"black\" stroke=\"black\" points=\"961.63,-77.14 967.45,-68.28 957.38,-71.58 961.63,-77.14\"/>\n</g>\n</g>\n</svg>\n",
      "text/plain": [
       "<graphviz.sources.Source at 0x15ff5659fc0>"
      ]
     },
     "execution_count": 28,
     "metadata": {},
     "output_type": "execute_result"
    }
   ],
   "source": [
    "#graph=pydotplus.graph_from_dot_data(out.getvalue())\n",
    "\n",
    "#graph.write_png(\"iris.png\")\n",
    "#Image(graph.)\n",
    "#from graphviz import Source\n",
    "#graph = graphviz.Source(out)\n",
    "#Image(graph.render())\n",
    "#graph.render('tree',format='.png', view=False)\n",
    "#graph = pydotplus.graph_from_dot_data(dot_data)\n",
    "graph = graphviz.Source(dot_data)\n",
    "graph \n"
   ]
  },
  {
   "cell_type": "code",
   "execution_count": 29,
   "metadata": {},
   "outputs": [
    {
     "name": "stdout",
     "output_type": "stream",
     "text": [
      "<class 'str'>\n",
      "digraph Tree {\n",
      "node [shape=box, style=\"filled, rounded\", color=\"black\", fontname=\"helvetica\"] ;\n",
      "edge [fontname=\"helvetica\"] ;\n",
      "0 [label=<x<SUB>0</SUB> &le; 3.5<br/>gini = 0.289<br/>samples = 2745<br/>value = [2265, 480]<br/>class = c>, fillcolor=\"#eb9c63\"] ;\n",
      "1 [label=<x<SUB>3</SUB> &le; 0.5<br/>gini = 0.194<br/>samples = 2017<br/>value = [1798, 219]<br/>class = c>, fillcolor=\"#e89051\"] ;\n",
      "0 -> 1 [labeldistance=2.5, labelangle=45, headlabel=\"True\"] ;\n",
      "2 [label=<x<SUB>0</SUB> &le; 2.5<br/>gini = 0.234<br/>samples = 1538<br/>value = [1330, 208]<br/>class = c>, fillcolor=\"#e99558\"] ;\n",
      "1 -> 2 ;\n",
      "3 [label=<gini = 0.206<br/>samples = 1323<br/>value = [1169, 154]<br/>class = c>, fillcolor=\"#e89253\"] ;\n",
      "2 -> 3 ;\n",
      "4 [label=<gini = 0.376<br/>samples = 215<br/>value = [161, 54]<br/>class = c>, fillcolor=\"#eeab7b\"] ;\n",
      "2 -> 4 ;\n",
      "5 [label=<x<SUB>0</SUB> &le; 1.5<br/>gini = 0.045<br/>samples = 479<br/>value = [468, 11]<br/>class = c>, fillcolor=\"#e6843e\"] ;\n",
      "1 -> 5 ;\n",
      "6 [label=<gini = 0.012<br/>samples = 331<br/>value = [329, 2]<br/>class = c>, fillcolor=\"#e5823a\"] ;\n",
      "5 -> 6 ;\n",
      "7 [label=<gini = 0.114<br/>samples = 148<br/>value = [139, 9]<br/>class = c>, fillcolor=\"#e78946\"] ;\n",
      "5 -> 7 ;\n",
      "8 [label=<x<SUB>2</SUB> &le; 0.5<br/>gini = 0.46<br/>samples = 728<br/>value = [467, 261]<br/>class = c>, fillcolor=\"#f4c7a8\"] ;\n",
      "0 -> 8 [labeldistance=2.5, labelangle=-45, headlabel=\"False\"] ;\n",
      "9 [label=<x<SUB>0</SUB> &le; 21.5<br/>gini = 0.347<br/>samples = 255<br/>value = [198, 57]<br/>class = c>, fillcolor=\"#eca572\"] ;\n",
      "8 -> 9 ;\n",
      "10 [label=<gini = 0.333<br/>samples = 251<br/>value = [198, 53]<br/>class = c>, fillcolor=\"#eca36e\"] ;\n",
      "9 -> 10 ;\n",
      "11 [label=<gini = 0.0<br/>samples = 4<br/>value = [0, 4]<br/>class = l>, fillcolor=\"#399de5\"] ;\n",
      "9 -> 11 ;\n",
      "12 [label=<x<SUB>0</SUB> &le; 4.5<br/>gini = 0.491<br/>samples = 473<br/>value = [269, 204]<br/>class = c>, fillcolor=\"#f9e1cf\"] ;\n",
      "8 -> 12 ;\n",
      "13 [label=<gini = 0.422<br/>samples = 139<br/>value = [97, 42]<br/>class = c>, fillcolor=\"#f0b88f\"] ;\n",
      "12 -> 13 ;\n",
      "14 [label=<gini = 0.5<br/>samples = 334<br/>value = [172, 162]<br/>class = c>, fillcolor=\"#fdf8f3\"] ;\n",
      "12 -> 14 ;\n",
      "}\n"
     ]
    }
   ],
   "source": [
    "print(type(dot_data))\n",
    "print(dot_data)"
   ]
  }
 ],
 "metadata": {
  "kernelspec": {
   "display_name": "Python 3",
   "language": "python",
   "name": "python3"
  },
  "language_info": {
   "codemirror_mode": {
    "name": "ipython",
    "version": 3
   },
   "file_extension": ".py",
   "mimetype": "text/x-python",
   "name": "python",
   "nbconvert_exporter": "python",
   "pygments_lexer": "ipython3",
   "version": "3.10.2 (tags/v3.10.2:a58ebcc, Jan 17 2022, 14:12:15) [MSC v.1929 64 bit (AMD64)]"
  },
  "orig_nbformat": 4,
  "vscode": {
   "interpreter": {
    "hash": "0c64cd21cd2834f5dd1cc13321a667e5c19f42da78bc1e781202aa7716bb2675"
   }
  }
 },
 "nbformat": 4,
 "nbformat_minor": 2
}
